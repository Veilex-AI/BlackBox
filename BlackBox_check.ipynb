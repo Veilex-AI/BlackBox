{
 "cells": [
  {
   "cell_type": "code",
   "execution_count": null,
   "metadata": {},
   "outputs": [],
   "source": [
    "import math\n",
    "\n",
    "def get_MAX_DISTANCE(current_position, position_list):\n",
    "    # ______ Temp Variable _________________\n",
    "    MAX_DISTANCE       = None\n",
    "    DeltaX             = None\n",
    "    DeltaY             = None\n",
    "    Euclidean_distance = None\n",
    "    # _______________________________________\n",
    "\n",
    "    for position_from_list in position_list:\n",
    "\n",
    "        # Get the Disdetanc of the x and y part\n",
    "        DeltaX             = current_position.x - position_from_list.x      \n",
    "        DeltaY             = current_position.y - position_from_list.y\n",
    "        # Cac the euclidean \n",
    "        Euclidean_distance = math.sqrt(pow(DeltaX,2)+pow(DeltaY,2))\n",
    "        # If we dont have a current Value the euclidan is the distanc\n",
    "        # We wanna have the bigges Distance \n",
    "        if Euclidean_distance > MAX_DISTANCE or MAX_DISTANCE is(None):\n",
    "            MAX_DISTANCE = Euclidean_distance\n",
    "\n",
    "    return MAX_DISTANCE"
   ]
  },
  {
   "cell_type": "code",
   "execution_count": null,
   "metadata": {},
   "outputs": [],
   "source": [
    "def get_COVERAGE_AREA(wall_size):\n",
    "    COVERAGE_AREA = wall_size.x * wall_size.y\n",
    "    return COVERAGE_AREA"
   ]
  },
  {
   "cell_type": "code",
   "execution_count": null,
   "metadata": {},
   "outputs": [],
   "source": [
    "\n",
    "def get_current_parameters(current_position,smokeDetector_positions,wall_positions,corner_positions,obstructions_position,airVent_position ,wall_size):\n",
    "\n",
    "\n",
    "# _______ Just some temp notes_____________ \n",
    "    # Im not sure about the definition of a position in our Code so I use .x /.y for the position on the X and and Y Dim.\n",
    "    # \n",
    "    # \n",
    "    #  \n",
    "#__________________________________________\n",
    "\n",
    "    # ____________ Default Values for the Return parameters ___________\n",
    "    MAX_SMOKE_DETECTOR_RADIUS       = None  # in meters\n",
    "    MAX_DISTANCE_FROM_WALL          = None  # in meters\n",
    "    MAX_DISTANCE_FROM_CORNER        = None  # in meters\n",
    "    MAX_COVERAGE_AREA               = None  # in square meters\n",
    "    MAX_DISTANCE_FROM_OBSTRUCTIONS  = None  # in meters\n",
    "    MAX_DISTANCE_FROM_AIR_VENTS     = None  # in meters\n",
    "    # _________________ get The Values ________________________________\n",
    "    MAX_SMOKE_DETECTOR_DISTANCE     = get_MAX_DISTANCE(current_position,smokeDetector_positions)\n",
    "    MAX_SMOKE_DETECTOR_RADIUS       = MAX_SMOKE_DETECTOR_DISTANCE/2\n",
    "    MAX_DISTANCE_FROM_WALL          = get_MAX_DISTANCE(current_position,wall_positions)\n",
    "    MAX_DISTANCE_FROM_CORNER        = get_MAX_DISTANCE(current_position,corner_positions)\n",
    "    MAX_DISTANCE_FROM_OBSTRUCTIONS  = get_MAX_DISTANCE(current_position,obstructions_position)\n",
    "    MAX_DISTANCE_FROM_AIR_VENTS     = get_MAX_DISTANCE(current_position,airVent_position)\n",
    "    MAX_COVERAGE_AREA               =get_COVERAGE_AREA(wall_size)\n",
    "    # ____________ Return the Values __________________________________\n",
    "    return [MAX_SMOKE_DETECTOR_RADIUS,MAX_DISTANCE_FROM_WALL,MAX_DISTANCE_FROM_CORNER,MAX_COVERAGE_AREA,MAX_DISTANCE_FROM_OBSTRUCTIONS,MAX_DISTANCE_FROM_AIR_VENTS]\n",
    "        "
   ]
  }
 ],
 "metadata": {
  "kernelspec": {
   "display_name": "Python 3",
   "language": "python",
   "name": "python3"
  },
  "language_info": {
   "codemirror_mode": {
    "name": "ipython",
    "version": 3
   },
   "file_extension": ".py",
   "mimetype": "text/x-python",
   "name": "python",
   "nbconvert_exporter": "python",
   "pygments_lexer": "ipython3",
   "version": "3.9.10"
  }
 },
 "nbformat": 4,
 "nbformat_minor": 2
}
